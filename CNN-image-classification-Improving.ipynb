{
 "cells": [
  {
   "cell_type": "markdown",
   "metadata": {},
   "source": [
    "## Building the CNN"
   ]
  },
  {
   "cell_type": "code",
   "execution_count": 1,
   "metadata": {},
   "outputs": [],
   "source": [
    "import warnings\n",
    "warnings.simplefilter(action='ignore', category=FutureWarning)"
   ]
  },
  {
   "cell_type": "code",
   "execution_count": 2,
   "metadata": {},
   "outputs": [
    {
     "name": "stderr",
     "output_type": "stream",
     "text": [
      "Using TensorFlow backend.\n"
     ]
    }
   ],
   "source": [
    "# Importing the Keras libraries and packages\n",
    "from keras.models import Sequential\n",
    "from keras.layers import Conv2D\n",
    "from keras.layers import MaxPooling2D\n",
    "from keras.layers import Flatten\n",
    "from keras.layers import Dense"
   ]
  },
  {
   "cell_type": "markdown",
   "metadata": {},
   "source": [
    "Initialising the CNN"
   ]
  },
  {
   "cell_type": "code",
   "execution_count": 3,
   "metadata": {},
   "outputs": [
    {
     "name": "stdout",
     "output_type": "stream",
     "text": [
      "WARNING:tensorflow:From C:\\Users\\kx764qe\\AppData\\Roaming\\Python\\Python37\\site-packages\\keras\\backend\\tensorflow_backend.py:74: The name tf.get_default_graph is deprecated. Please use tf.compat.v1.get_default_graph instead.\n",
      "\n"
     ]
    }
   ],
   "source": [
    "classifier = Sequential()"
   ]
  },
  {
   "cell_type": "markdown",
   "metadata": {},
   "source": [
    "Step 1 - Convolution"
   ]
  },
  {
   "cell_type": "code",
   "execution_count": 4,
   "metadata": {},
   "outputs": [
    {
     "name": "stdout",
     "output_type": "stream",
     "text": [
      "WARNING:tensorflow:From C:\\Users\\kx764qe\\AppData\\Roaming\\Python\\Python37\\site-packages\\keras\\backend\\tensorflow_backend.py:517: The name tf.placeholder is deprecated. Please use tf.compat.v1.placeholder instead.\n",
      "\n",
      "WARNING:tensorflow:From C:\\Users\\kx764qe\\AppData\\Roaming\\Python\\Python37\\site-packages\\keras\\backend\\tensorflow_backend.py:4138: The name tf.random_uniform is deprecated. Please use tf.random.uniform instead.\n",
      "\n"
     ]
    }
   ],
   "source": [
    "classifier.add(Conv2D(32, (3, 3), input_shape = (64, 64, 3), activation = 'relu'))"
   ]
  },
  {
   "cell_type": "markdown",
   "metadata": {},
   "source": [
    "Step 2 - Pooling"
   ]
  },
  {
   "cell_type": "code",
   "execution_count": 5,
   "metadata": {},
   "outputs": [
    {
     "name": "stdout",
     "output_type": "stream",
     "text": [
      "WARNING:tensorflow:From C:\\Users\\kx764qe\\AppData\\Roaming\\Python\\Python37\\site-packages\\keras\\backend\\tensorflow_backend.py:3976: The name tf.nn.max_pool is deprecated. Please use tf.nn.max_pool2d instead.\n",
      "\n"
     ]
    }
   ],
   "source": [
    "classifier.add(MaxPooling2D(pool_size = (2, 2)))"
   ]
  },
  {
   "cell_type": "markdown",
   "metadata": {},
   "source": [
    "add 2nd convolution layer"
   ]
  },
  {
   "cell_type": "code",
   "execution_count": 6,
   "metadata": {},
   "outputs": [],
   "source": [
    "classifier.add(Conv2D(32, (3, 3), activation = 'relu'))\n",
    "classifier.add(MaxPooling2D(pool_size = (2, 2)))"
   ]
  },
  {
   "cell_type": "markdown",
   "metadata": {},
   "source": [
    "Step 3 - Flattening"
   ]
  },
  {
   "cell_type": "code",
   "execution_count": 7,
   "metadata": {},
   "outputs": [],
   "source": [
    "classifier.add(Flatten())"
   ]
  },
  {
   "cell_type": "markdown",
   "metadata": {},
   "source": [
    "Step 4 - Full connection"
   ]
  },
  {
   "cell_type": "code",
   "execution_count": 8,
   "metadata": {},
   "outputs": [],
   "source": [
    "classifier.add(Dense(units = 128, activation = 'relu'))\n",
    "classifier.add(Dense(units = 1, activation = 'sigmoid'))\n"
   ]
  },
  {
   "cell_type": "markdown",
   "metadata": {},
   "source": [
    "## Compiling the CNN"
   ]
  },
  {
   "cell_type": "code",
   "execution_count": 9,
   "metadata": {},
   "outputs": [
    {
     "name": "stdout",
     "output_type": "stream",
     "text": [
      "WARNING:tensorflow:From C:\\Users\\kx764qe\\AppData\\Roaming\\Python\\Python37\\site-packages\\keras\\optimizers.py:790: The name tf.train.Optimizer is deprecated. Please use tf.compat.v1.train.Optimizer instead.\n",
      "\n",
      "WARNING:tensorflow:From C:\\Users\\kx764qe\\AppData\\Roaming\\Python\\Python37\\site-packages\\keras\\backend\\tensorflow_backend.py:3376: The name tf.log is deprecated. Please use tf.math.log instead.\n",
      "\n",
      "WARNING:tensorflow:From C:\\Users\\kx764qe\\AppData\\Local\\Continuum\\anaconda3\\envs\\courses\\lib\\site-packages\\tensorflow\\python\\ops\\nn_impl.py:180: add_dispatch_support.<locals>.wrapper (from tensorflow.python.ops.array_ops) is deprecated and will be removed in a future version.\n",
      "Instructions for updating:\n",
      "Use tf.where in 2.0, which has the same broadcast rule as np.where\n"
     ]
    }
   ],
   "source": [
    "classifier.compile(optimizer = 'adam', loss = 'binary_crossentropy', metrics = ['accuracy'])"
   ]
  },
  {
   "cell_type": "markdown",
   "metadata": {},
   "source": [
    "## Image processing & Model fit"
   ]
  },
  {
   "cell_type": "code",
   "execution_count": 10,
   "metadata": {},
   "outputs": [],
   "source": [
    "from keras.preprocessing.image import ImageDataGenerator"
   ]
  },
  {
   "cell_type": "code",
   "execution_count": 11,
   "metadata": {},
   "outputs": [
    {
     "name": "stdout",
     "output_type": "stream",
     "text": [
      "Found 8000 images belonging to 2 classes.\n",
      "Found 2000 images belonging to 2 classes.\n",
      "WARNING:tensorflow:From C:\\Users\\kx764qe\\AppData\\Roaming\\Python\\Python37\\site-packages\\keras\\backend\\tensorflow_backend.py:986: The name tf.assign_add is deprecated. Please use tf.compat.v1.assign_add instead.\n",
      "\n",
      "Epoch 1/25\n",
      "250/250 [==============================] - 67s 269ms/step - loss: 0.6901 - acc: 0.5505 - val_loss: 0.6635 - val_acc: 0.6100\n",
      "Epoch 2/25\n",
      "250/250 [==============================] - 55s 219ms/step - loss: 0.6348 - acc: 0.6406 - val_loss: 0.5832 - val_acc: 0.7040\n",
      "Epoch 3/25\n",
      "250/250 [==============================] - 63s 254ms/step - loss: 0.5871 - acc: 0.6967 - val_loss: 0.5482 - val_acc: 0.7185\n",
      "Epoch 4/25\n",
      "250/250 [==============================] - 53s 213ms/step - loss: 0.5466 - acc: 0.7166 - val_loss: 0.5205 - val_acc: 0.7410\n",
      "Epoch 5/25\n",
      "250/250 [==============================] - 55s 221ms/step - loss: 0.5101 - acc: 0.7521 - val_loss: 0.4980 - val_acc: 0.7750\n",
      "Epoch 6/25\n",
      "250/250 [==============================] - 52s 208ms/step - loss: 0.4912 - acc: 0.7579 - val_loss: 0.4869 - val_acc: 0.7655\n",
      "Epoch 7/25\n",
      "250/250 [==============================] - 52s 207ms/step - loss: 0.4790 - acc: 0.7694 - val_loss: 0.4977 - val_acc: 0.7585\n",
      "Epoch 8/25\n",
      "250/250 [==============================] - 52s 209ms/step - loss: 0.4594 - acc: 0.7786 - val_loss: 0.4768 - val_acc: 0.7725\n",
      "Epoch 9/25\n",
      "250/250 [==============================] - 49s 198ms/step - loss: 0.4490 - acc: 0.7873 - val_loss: 0.4770 - val_acc: 0.7770\n",
      "Epoch 10/25\n",
      "250/250 [==============================] - 50s 199ms/step - loss: 0.4186 - acc: 0.8022 - val_loss: 0.4992 - val_acc: 0.7710\n",
      "Epoch 11/25\n",
      "250/250 [==============================] - 49s 196ms/step - loss: 0.4210 - acc: 0.8034 - val_loss: 0.4686 - val_acc: 0.7775\n",
      "Epoch 12/25\n",
      "250/250 [==============================] - 50s 199ms/step - loss: 0.3999 - acc: 0.8165 - val_loss: 0.4523 - val_acc: 0.7965\n",
      "Epoch 13/25\n",
      "250/250 [==============================] - 50s 199ms/step - loss: 0.3896 - acc: 0.8197 - val_loss: 0.4778 - val_acc: 0.7750\n",
      "Epoch 14/25\n",
      "250/250 [==============================] - 68s 270ms/step - loss: 0.3815 - acc: 0.8283 - val_loss: 0.4510 - val_acc: 0.7980\n",
      "Epoch 15/25\n",
      "250/250 [==============================] - 67s 267ms/step - loss: 0.3632 - acc: 0.8386 - val_loss: 0.4412 - val_acc: 0.8015\n",
      "Epoch 16/25\n",
      "250/250 [==============================] - 67s 269ms/step - loss: 0.3468 - acc: 0.8438 - val_loss: 0.4563 - val_acc: 0.8070\n",
      "Epoch 17/25\n",
      "250/250 [==============================] - 70s 279ms/step - loss: 0.3407 - acc: 0.8479 - val_loss: 0.5068 - val_acc: 0.7765\n",
      "Epoch 18/25\n",
      "250/250 [==============================] - 54s 217ms/step - loss: 0.3193 - acc: 0.8640 - val_loss: 0.4544 - val_acc: 0.8115\n",
      "Epoch 19/25\n",
      "250/250 [==============================] - 54s 216ms/step - loss: 0.3074 - acc: 0.8668 - val_loss: 0.4889 - val_acc: 0.8095\n",
      "Epoch 20/25\n",
      "250/250 [==============================] - 54s 215ms/step - loss: 0.2953 - acc: 0.8750 - val_loss: 0.4531 - val_acc: 0.8200\n",
      "Epoch 21/25\n",
      "250/250 [==============================] - 54s 214ms/step - loss: 0.2715 - acc: 0.8848 - val_loss: 0.4966 - val_acc: 0.7840\n",
      "Epoch 22/25\n",
      "250/250 [==============================] - 55s 219ms/step - loss: 0.2639 - acc: 0.8884 - val_loss: 0.4898 - val_acc: 0.8050\n",
      "Epoch 23/25\n",
      "250/250 [==============================] - 53s 211ms/step - loss: 0.2563 - acc: 0.8922 - val_loss: 0.6275 - val_acc: 0.7640\n",
      "Epoch 24/25\n",
      "250/250 [==============================] - 55s 218ms/step - loss: 0.2374 - acc: 0.9027 - val_loss: 0.5445 - val_acc: 0.79400.2379 - acc: \n",
      "Epoch 25/25\n",
      "250/250 [==============================] - 56s 222ms/step - loss: 0.2229 - acc: 0.9090 - val_loss: 0.5044 - val_acc: 0.8245\n"
     ]
    },
    {
     "data": {
      "text/plain": [
       "<keras.callbacks.History at 0x2645ccbdef0>"
      ]
     },
     "execution_count": 11,
     "metadata": {},
     "output_type": "execute_result"
    }
   ],
   "source": [
    "##create an object of ImageDataGenerator, for augmenting train set\n",
    "train_datagen = ImageDataGenerator(rescale = 1./255,\n",
    "                                   shear_range = 0.2,\n",
    "                                   zoom_range = 0.2,\n",
    "                                   horizontal_flip = True)\n",
    "\n",
    "\n",
    "##create another object of ImageDataGenerator, for augmenting test set\n",
    "test_datagen = ImageDataGenerator(rescale = 1./255)\n",
    "\n",
    "##apply image augmentation on train set by resizing all images to 64x64 and creating batches of 32 images.\n",
    "training_set = train_datagen.flow_from_directory('dataset/training_set',\n",
    "                                                 target_size = (64, 64),\n",
    "                                                 batch_size = 32,\n",
    "                                                 class_mode = 'binary')\n",
    "\n",
    "##apply image augmentation on test set by resizing all images to 64x64 and creating batches of 32 images.\n",
    "test_set = test_datagen.flow_from_directory('dataset/test_set',\n",
    "                                            target_size = (64, 64),\n",
    "                                            batch_size = 32,\n",
    "                                            class_mode = 'binary')\n",
    "\n",
    "classifier.fit_generator(training_set,\n",
    "                         steps_per_epoch = (8000/32),\n",
    "                         epochs = 25,\n",
    "                         validation_data = test_set,\n",
    "                         validation_steps = (2000/32))\n"
   ]
  },
  {
   "cell_type": "code",
   "execution_count": null,
   "metadata": {},
   "outputs": [],
   "source": []
  }
 ],
 "metadata": {
  "kernelspec": {
   "display_name": "Python 3",
   "language": "python",
   "name": "python3"
  },
  "language_info": {
   "codemirror_mode": {
    "name": "ipython",
    "version": 3
   },
   "file_extension": ".py",
   "mimetype": "text/x-python",
   "name": "python",
   "nbconvert_exporter": "python",
   "pygments_lexer": "ipython3",
   "version": "3.7.3"
  }
 },
 "nbformat": 4,
 "nbformat_minor": 4
}
