{
 "cells": [
  {
   "cell_type": "markdown",
   "metadata": {},
   "source": [
    "### 0. Building CNN for cat and dog classification"
   ]
  },
  {
   "cell_type": "markdown",
   "metadata": {},
   "source": [
    "### 1. Import library"
   ]
  },
  {
   "cell_type": "code",
   "execution_count": 1,
   "metadata": {},
   "outputs": [],
   "source": [
    "import warnings\n",
    "warnings.simplefilter(action='ignore', category=FutureWarning)"
   ]
  },
  {
   "cell_type": "code",
   "execution_count": 2,
   "metadata": {},
   "outputs": [
    {
     "name": "stderr",
     "output_type": "stream",
     "text": [
      "Using TensorFlow backend.\n"
     ]
    }
   ],
   "source": [
    "# Importing the Keras libraries and packages\n",
    "from keras.models import Sequential\n",
    "from keras.layers import Conv2D\n",
    "from keras.layers import MaxPooling2D\n",
    "from keras.layers import Flatten\n",
    "from keras.layers import Dense\n",
    "\n",
    "from keras.preprocessing.image import ImageDataGenerator\n",
    "import numpy as np\n",
    "from keras.preprocessing import image"
   ]
  },
  {
   "cell_type": "markdown",
   "metadata": {},
   "source": [
    "### 2. Model create"
   ]
  },
  {
   "cell_type": "markdown",
   "metadata": {},
   "source": [
    "- Initialising the CNN\n",
    "- Convolution  \n",
    "- Pooling  \n",
    "- Flattening  \n",
    "- Full connection  "
   ]
  },
  {
   "cell_type": "code",
   "execution_count": 3,
   "metadata": {},
   "outputs": [
    {
     "name": "stdout",
     "output_type": "stream",
     "text": [
      "WARNING:tensorflow:From C:\\Users\\kx764qe\\AppData\\Local\\Continuum\\anaconda3\\envs\\courses\\lib\\site-packages\\keras\\backend\\tensorflow_backend.py:74: The name tf.get_default_graph is deprecated. Please use tf.compat.v1.get_default_graph instead.\n",
      "\n",
      "WARNING:tensorflow:From C:\\Users\\kx764qe\\AppData\\Local\\Continuum\\anaconda3\\envs\\courses\\lib\\site-packages\\keras\\backend\\tensorflow_backend.py:517: The name tf.placeholder is deprecated. Please use tf.compat.v1.placeholder instead.\n",
      "\n",
      "WARNING:tensorflow:From C:\\Users\\kx764qe\\AppData\\Local\\Continuum\\anaconda3\\envs\\courses\\lib\\site-packages\\keras\\backend\\tensorflow_backend.py:4138: The name tf.random_uniform is deprecated. Please use tf.random.uniform instead.\n",
      "\n",
      "WARNING:tensorflow:From C:\\Users\\kx764qe\\AppData\\Local\\Continuum\\anaconda3\\envs\\courses\\lib\\site-packages\\keras\\backend\\tensorflow_backend.py:3976: The name tf.nn.max_pool is deprecated. Please use tf.nn.max_pool2d instead.\n",
      "\n"
     ]
    }
   ],
   "source": [
    "classifier = Sequential()\n",
    "\n",
    "classifier.add(Conv2D(32, (3, 3), input_shape = (64, 64, 3), activation = 'relu'))\n",
    "\n",
    "classifier.add(MaxPooling2D(pool_size = (2, 2)))\n",
    "\n",
    "classifier.add(Flatten())\n",
    "\n",
    "classifier.add(Dense(units = 128, activation = 'relu'))\n",
    "classifier.add(Dense(units = 1, activation = 'sigmoid'))\n"
   ]
  },
  {
   "cell_type": "markdown",
   "metadata": {},
   "source": [
    "### 3. Modell compile"
   ]
  },
  {
   "cell_type": "code",
   "execution_count": 4,
   "metadata": {},
   "outputs": [
    {
     "name": "stdout",
     "output_type": "stream",
     "text": [
      "WARNING:tensorflow:From C:\\Users\\kx764qe\\AppData\\Local\\Continuum\\anaconda3\\envs\\courses\\lib\\site-packages\\keras\\optimizers.py:790: The name tf.train.Optimizer is deprecated. Please use tf.compat.v1.train.Optimizer instead.\n",
      "\n",
      "WARNING:tensorflow:From C:\\Users\\kx764qe\\AppData\\Local\\Continuum\\anaconda3\\envs\\courses\\lib\\site-packages\\keras\\backend\\tensorflow_backend.py:3376: The name tf.log is deprecated. Please use tf.math.log instead.\n",
      "\n",
      "WARNING:tensorflow:From C:\\Users\\kx764qe\\AppData\\Local\\Continuum\\anaconda3\\envs\\courses\\lib\\site-packages\\tensorflow\\python\\ops\\nn_impl.py:180: add_dispatch_support.<locals>.wrapper (from tensorflow.python.ops.array_ops) is deprecated and will be removed in a future version.\n",
      "Instructions for updating:\n",
      "Use tf.where in 2.0, which has the same broadcast rule as np.where\n"
     ]
    }
   ],
   "source": [
    "classifier.compile(optimizer = 'adam', loss = 'binary_crossentropy', metrics = ['accuracy'])"
   ]
  },
  {
   "cell_type": "markdown",
   "metadata": {},
   "source": [
    "### 4. Image augmentation & Model fit"
   ]
  },
  {
   "cell_type": "code",
   "execution_count": 6,
   "metadata": {
    "scrolled": true
   },
   "outputs": [
    {
     "name": "stdout",
     "output_type": "stream",
     "text": [
      "Found 8000 images belonging to 2 classes.\n",
      "Found 2000 images belonging to 2 classes.\n",
      "WARNING:tensorflow:From C:\\Users\\kx764qe\\AppData\\Local\\Continuum\\anaconda3\\envs\\courses\\lib\\site-packages\\keras\\backend\\tensorflow_backend.py:986: The name tf.assign_add is deprecated. Please use tf.compat.v1.assign_add instead.\n",
      "\n",
      "Epoch 1/25\n",
      "250/250 [==============================] - 93s 373ms/step - loss: 0.6538 - acc: 0.6181 - val_loss: 0.5978 - val_acc: 0.6785\n",
      "Epoch 2/25\n",
      "250/250 [==============================] - 67s 267ms/step - loss: 0.5893 - acc: 0.6836 - val_loss: 0.5517 - val_acc: 0.7240\n",
      "Epoch 3/25\n",
      "250/250 [==============================] - 57s 227ms/step - loss: 0.5608 - acc: 0.7039 - val_loss: 0.5720 - val_acc: 0.7010\n",
      "Epoch 4/25\n",
      "250/250 [==============================] - 61s 242ms/step - loss: 0.5455 - acc: 0.7188 - val_loss: 0.5842 - val_acc: 0.7080\n",
      "Epoch 5/25\n",
      "250/250 [==============================] - 58s 231ms/step - loss: 0.5179 - acc: 0.7394 - val_loss: 0.5206 - val_acc: 0.7445\n",
      "Epoch 6/25\n",
      "250/250 [==============================] - 54s 217ms/step - loss: 0.5128 - acc: 0.7462 - val_loss: 0.5403 - val_acc: 0.7325\n",
      "Epoch 7/25\n",
      "250/250 [==============================] - 55s 221ms/step - loss: 0.5010 - acc: 0.7516 - val_loss: 0.5264 - val_acc: 0.7430\n",
      "Epoch 8/25\n",
      "250/250 [==============================] - 56s 223ms/step - loss: 0.4836 - acc: 0.7625 - val_loss: 0.5098 - val_acc: 0.7600\n",
      "Epoch 9/25\n",
      "250/250 [==============================] - 55s 219ms/step - loss: 0.4716 - acc: 0.7724 - val_loss: 0.6318 - val_acc: 0.7200\n",
      "Epoch 10/25\n",
      "250/250 [==============================] - 59s 234ms/step - loss: 0.4616 - acc: 0.7762 - val_loss: 0.5355 - val_acc: 0.7480\n",
      "Epoch 11/25\n",
      "250/250 [==============================] - 68s 271ms/step - loss: 0.4446 - acc: 0.7873 - val_loss: 0.5462 - val_acc: 0.7515\n",
      "Epoch 12/25\n",
      "250/250 [==============================] - 65s 261ms/step - loss: 0.4398 - acc: 0.7949 - val_loss: 0.5527 - val_acc: 0.7600\n",
      "Epoch 13/25\n",
      "250/250 [==============================] - 61s 244ms/step - loss: 0.4252 - acc: 0.7986 - val_loss: 0.5035 - val_acc: 0.7725\n",
      "Epoch 14/25\n",
      "250/250 [==============================] - 76s 305ms/step - loss: 0.4093 - acc: 0.8130 - val_loss: 0.5298 - val_acc: 0.7505\n",
      "Epoch 15/25\n",
      "250/250 [==============================] - 76s 305ms/step - loss: 0.4009 - acc: 0.8180 - val_loss: 0.5324 - val_acc: 0.7635\n",
      "Epoch 16/25\n",
      "250/250 [==============================] - 83s 330ms/step - loss: 0.3827 - acc: 0.8264 - val_loss: 0.5447 - val_acc: 0.7765\n",
      "Epoch 17/25\n",
      "250/250 [==============================] - 64s 256ms/step - loss: 0.3821 - acc: 0.8247 - val_loss: 0.5622 - val_acc: 0.7690\n",
      "Epoch 18/25\n",
      "250/250 [==============================] - 65s 259ms/step - loss: 0.3616 - acc: 0.8330 - val_loss: 0.6370 - val_acc: 0.7405\n",
      "Epoch 19/25\n",
      "250/250 [==============================] - 61s 245ms/step - loss: 0.3653 - acc: 0.8382 - val_loss: 0.5958 - val_acc: 0.7535\n",
      "Epoch 20/25\n",
      "250/250 [==============================] - 60s 241ms/step - loss: 0.3486 - acc: 0.8427 - val_loss: 0.5869 - val_acc: 0.7580\n",
      "Epoch 21/25\n",
      "250/250 [==============================] - 65s 258ms/step - loss: 0.3427 - acc: 0.8476 - val_loss: 0.5497 - val_acc: 0.7695\n",
      "Epoch 22/25\n",
      "250/250 [==============================] - 67s 270ms/step - loss: 0.3300 - acc: 0.8541 - val_loss: 0.5541 - val_acc: 0.7730\n",
      "Epoch 23/25\n",
      "250/250 [==============================] - 73s 293ms/step - loss: 0.3248 - acc: 0.8575 - val_loss: 0.5593 - val_acc: 0.7685\n",
      "Epoch 24/25\n",
      "250/250 [==============================] - 71s 283ms/step - loss: 0.3181 - acc: 0.8616 - val_loss: 0.6112 - val_acc: 0.7635\n",
      "Epoch 25/25\n",
      "250/250 [==============================] - 65s 261ms/step - loss: 0.3063 - acc: 0.8702 - val_loss: 0.5827 - val_acc: 0.7500\n"
     ]
    },
    {
     "data": {
      "text/plain": [
       "<keras.callbacks.History at 0x18089948cf8>"
      ]
     },
     "execution_count": 6,
     "metadata": {},
     "output_type": "execute_result"
    }
   ],
   "source": [
    "##create an object of ImageDataGenerator, for augmenting train set\n",
    "train_datagen = ImageDataGenerator(rescale = 1./255,\n",
    "                                   shear_range = 0.2,\n",
    "                                   zoom_range = 0.2,\n",
    "                                   horizontal_flip = True)\n",
    "\n",
    "##create another object of ImageDataGenerator, for augmenting test set\n",
    "test_datagen = ImageDataGenerator(rescale = 1./255)\n",
    "\n",
    "##apply image augmentation on train set by resizing all images to 64x64 and creating batches of 32 images.\n",
    "training_set = train_datagen.flow_from_directory('dataset/training_set',\n",
    "                                                 target_size = (64, 64),\n",
    "                                                 batch_size = 32,\n",
    "                                                 class_mode = 'binary')\n",
    "\n",
    "##apply image augmentation on test set by resizing all images to 64x64 and creating batches of 32 images.\n",
    "test_set = test_datagen.flow_from_directory('dataset/test_set',\n",
    "                                            target_size = (64, 64),\n",
    "                                            batch_size = 32,\n",
    "                                            class_mode = 'binary')\n",
    "\n",
    "\n",
    "###steps_per_epoch: num of data divided by batch size\n",
    "###validation_steps: num of data divided by batch size\n",
    "classifier.fit_generator(training_set,\n",
    "                         steps_per_epoch = (8000/32),\n",
    "                         epochs = 25,\n",
    "                         validation_data = test_set,\n",
    "                         validation_steps = (2000/32))\n"
   ]
  },
  {
   "cell_type": "markdown",
   "metadata": {},
   "source": [
    "### 5. Example prediction"
   ]
  },
  {
   "cell_type": "code",
   "execution_count": 7,
   "metadata": {},
   "outputs": [],
   "source": [
    "test_image = image.load_img('dataset/single_prediction/cat_or_dog_1.jpg', \n",
    "                            target_size = (64, 64))"
   ]
  },
  {
   "cell_type": "code",
   "execution_count": 8,
   "metadata": {},
   "outputs": [],
   "source": [
    "#add channel dimension for image\n",
    "test_image = image.img_to_array(test_image)"
   ]
  },
  {
   "cell_type": "code",
   "execution_count": 9,
   "metadata": {},
   "outputs": [],
   "source": [
    "##add batch dimension for image\n",
    "test_image = np.expand_dims(test_image, axis = 0)"
   ]
  },
  {
   "cell_type": "code",
   "execution_count": 10,
   "metadata": {},
   "outputs": [],
   "source": [
    "result = classifier.predict(test_image)"
   ]
  },
  {
   "cell_type": "code",
   "execution_count": 11,
   "metadata": {},
   "outputs": [
    {
     "data": {
      "text/plain": [
       "{'cats': 0, 'dogs': 1}"
      ]
     },
     "execution_count": 11,
     "metadata": {},
     "output_type": "execute_result"
    }
   ],
   "source": [
    "training_set.class_indices"
   ]
  },
  {
   "cell_type": "code",
   "execution_count": 12,
   "metadata": {},
   "outputs": [
    {
     "name": "stdout",
     "output_type": "stream",
     "text": [
      "Dog\n"
     ]
    }
   ],
   "source": [
    "if result[0][0] == 1:\n",
    "    print('Dog')\n",
    "else:\n",
    "    print('Cat')"
   ]
  },
  {
   "cell_type": "code",
   "execution_count": null,
   "metadata": {},
   "outputs": [],
   "source": []
  }
 ],
 "metadata": {
  "kernelspec": {
   "display_name": "Python 3",
   "language": "python",
   "name": "python3"
  },
  "language_info": {
   "codemirror_mode": {
    "name": "ipython",
    "version": 3
   },
   "file_extension": ".py",
   "mimetype": "text/x-python",
   "name": "python",
   "nbconvert_exporter": "python",
   "pygments_lexer": "ipython3",
   "version": "3.7.3"
  }
 },
 "nbformat": 4,
 "nbformat_minor": 4
}
