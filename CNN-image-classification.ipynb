{
 "cells": [
  {
   "cell_type": "markdown",
   "metadata": {},
   "source": [
    "## Building the CNN"
   ]
  },
  {
   "cell_type": "code",
   "execution_count": 1,
   "metadata": {},
   "outputs": [],
   "source": [
    "import warnings\n",
    "warnings.simplefilter(action='ignore', category=FutureWarning)"
   ]
  },
  {
   "cell_type": "code",
   "execution_count": 2,
   "metadata": {},
   "outputs": [
    {
     "name": "stderr",
     "output_type": "stream",
     "text": [
      "Using TensorFlow backend.\n"
     ]
    }
   ],
   "source": [
    "# Importing the Keras libraries and packages\n",
    "from keras.models import Sequential\n",
    "from keras.layers import Conv2D\n",
    "from keras.layers import MaxPooling2D\n",
    "from keras.layers import Flatten\n",
    "from keras.layers import Dense"
   ]
  },
  {
   "cell_type": "markdown",
   "metadata": {},
   "source": [
    "Initialising the CNN"
   ]
  },
  {
   "cell_type": "code",
   "execution_count": 3,
   "metadata": {},
   "outputs": [
    {
     "name": "stdout",
     "output_type": "stream",
     "text": [
      "WARNING:tensorflow:From C:\\Users\\kx764qe\\AppData\\Roaming\\Python\\Python37\\site-packages\\keras\\backend\\tensorflow_backend.py:74: The name tf.get_default_graph is deprecated. Please use tf.compat.v1.get_default_graph instead.\n",
      "\n"
     ]
    }
   ],
   "source": [
    "classifier = Sequential()"
   ]
  },
  {
   "cell_type": "markdown",
   "metadata": {},
   "source": [
    "Step 1 - Convolution"
   ]
  },
  {
   "cell_type": "code",
   "execution_count": 4,
   "metadata": {},
   "outputs": [
    {
     "name": "stdout",
     "output_type": "stream",
     "text": [
      "WARNING:tensorflow:From C:\\Users\\kx764qe\\AppData\\Roaming\\Python\\Python37\\site-packages\\keras\\backend\\tensorflow_backend.py:517: The name tf.placeholder is deprecated. Please use tf.compat.v1.placeholder instead.\n",
      "\n",
      "WARNING:tensorflow:From C:\\Users\\kx764qe\\AppData\\Roaming\\Python\\Python37\\site-packages\\keras\\backend\\tensorflow_backend.py:4138: The name tf.random_uniform is deprecated. Please use tf.random.uniform instead.\n",
      "\n"
     ]
    }
   ],
   "source": [
    "classifier.add(Conv2D(32, (3, 3), input_shape = (64, 64, 3), activation = 'relu'))"
   ]
  },
  {
   "cell_type": "markdown",
   "metadata": {},
   "source": [
    "Step 2 - Pooling"
   ]
  },
  {
   "cell_type": "code",
   "execution_count": 5,
   "metadata": {},
   "outputs": [
    {
     "name": "stdout",
     "output_type": "stream",
     "text": [
      "WARNING:tensorflow:From C:\\Users\\kx764qe\\AppData\\Roaming\\Python\\Python37\\site-packages\\keras\\backend\\tensorflow_backend.py:3976: The name tf.nn.max_pool is deprecated. Please use tf.nn.max_pool2d instead.\n",
      "\n"
     ]
    }
   ],
   "source": [
    "classifier.add(MaxPooling2D(pool_size = (2, 2)))"
   ]
  },
  {
   "cell_type": "markdown",
   "metadata": {},
   "source": [
    "Step 3 - Flattening"
   ]
  },
  {
   "cell_type": "code",
   "execution_count": 6,
   "metadata": {},
   "outputs": [],
   "source": [
    "classifier.add(Flatten())"
   ]
  },
  {
   "cell_type": "markdown",
   "metadata": {},
   "source": [
    "Step 4 - Full connection"
   ]
  },
  {
   "cell_type": "code",
   "execution_count": 7,
   "metadata": {},
   "outputs": [],
   "source": [
    "classifier.add(Dense(units = 128, activation = 'relu'))\n",
    "classifier.add(Dense(units = 1, activation = 'sigmoid'))"
   ]
  },
  {
   "cell_type": "markdown",
   "metadata": {},
   "source": [
    "## Compiling the CNN"
   ]
  },
  {
   "cell_type": "code",
   "execution_count": 8,
   "metadata": {},
   "outputs": [
    {
     "name": "stdout",
     "output_type": "stream",
     "text": [
      "WARNING:tensorflow:From C:\\Users\\kx764qe\\AppData\\Roaming\\Python\\Python37\\site-packages\\keras\\optimizers.py:790: The name tf.train.Optimizer is deprecated. Please use tf.compat.v1.train.Optimizer instead.\n",
      "\n",
      "WARNING:tensorflow:From C:\\Users\\kx764qe\\AppData\\Roaming\\Python\\Python37\\site-packages\\keras\\backend\\tensorflow_backend.py:3376: The name tf.log is deprecated. Please use tf.math.log instead.\n",
      "\n",
      "WARNING:tensorflow:From C:\\Users\\kx764qe\\AppData\\Local\\Continuum\\anaconda3\\envs\\courses\\lib\\site-packages\\tensorflow\\python\\ops\\nn_impl.py:180: add_dispatch_support.<locals>.wrapper (from tensorflow.python.ops.array_ops) is deprecated and will be removed in a future version.\n",
      "Instructions for updating:\n",
      "Use tf.where in 2.0, which has the same broadcast rule as np.where\n"
     ]
    }
   ],
   "source": [
    "classifier.compile(optimizer = 'adam', loss = 'binary_crossentropy', metrics = ['accuracy'])"
   ]
  },
  {
   "cell_type": "markdown",
   "metadata": {},
   "source": [
    "## Image processing & Model fit"
   ]
  },
  {
   "cell_type": "code",
   "execution_count": 9,
   "metadata": {},
   "outputs": [],
   "source": [
    "from keras.preprocessing.image import ImageDataGenerator"
   ]
  },
  {
   "cell_type": "code",
   "execution_count": 10,
   "metadata": {},
   "outputs": [
    {
     "name": "stdout",
     "output_type": "stream",
     "text": [
      "Found 8000 images belonging to 2 classes.\n",
      "Found 2000 images belonging to 2 classes.\n",
      "WARNING:tensorflow:From C:\\Users\\kx764qe\\AppData\\Roaming\\Python\\Python37\\site-packages\\keras\\backend\\tensorflow_backend.py:986: The name tf.assign_add is deprecated. Please use tf.compat.v1.assign_add instead.\n",
      "\n",
      "Epoch 1/25\n",
      "250/250 [==============================] - 68s 274ms/step - loss: 0.6674 - acc: 0.6196 - val_loss: 0.5999 - val_acc: 0.6895\n",
      "Epoch 2/25\n",
      "250/250 [==============================] - 72s 286ms/step - loss: 0.5902 - acc: 0.6846 - val_loss: 0.5802 - val_acc: 0.7010\n",
      "Epoch 3/25\n",
      "250/250 [==============================] - 61s 242ms/step - loss: 0.5693 - acc: 0.6985 - val_loss: 0.5952 - val_acc: 0.6895\n",
      "Epoch 4/25\n",
      "250/250 [==============================] - 63s 251ms/step - loss: 0.5502 - acc: 0.7169 - val_loss: 0.5529 - val_acc: 0.7150\n",
      "Epoch 5/25\n",
      "250/250 [==============================] - 64s 255ms/step - loss: 0.5409 - acc: 0.7254 - val_loss: 0.5333 - val_acc: 0.7280\n",
      "Epoch 6/25\n",
      "250/250 [==============================] - 71s 286ms/step - loss: 0.5120 - acc: 0.7440 - val_loss: 0.5232 - val_acc: 0.7390\n",
      "Epoch 7/25\n",
      "250/250 [==============================] - 75s 299ms/step - loss: 0.4987 - acc: 0.7525 - val_loss: 0.5355 - val_acc: 0.7460\n",
      "Epoch 8/25\n",
      "250/250 [==============================] - 72s 289ms/step - loss: 0.4865 - acc: 0.7611 - val_loss: 0.5471 - val_acc: 0.7270\n",
      "Epoch 9/25\n",
      "250/250 [==============================] - 59s 236ms/step - loss: 0.4740 - acc: 0.7702 - val_loss: 0.5101 - val_acc: 0.7585\n",
      "Epoch 10/25\n",
      "250/250 [==============================] - 60s 240ms/step - loss: 0.4646 - acc: 0.7725 - val_loss: 0.5081 - val_acc: 0.7590\n",
      "Epoch 11/25\n",
      "250/250 [==============================] - 58s 234ms/step - loss: 0.4562 - acc: 0.7845 - val_loss: 0.5259 - val_acc: 0.7625\n",
      "Epoch 12/25\n",
      "250/250 [==============================] - 66s 265ms/step - loss: 0.4415 - acc: 0.7880 - val_loss: 0.5057 - val_acc: 0.7765\n",
      "Epoch 13/25\n",
      "250/250 [==============================] - 60s 239ms/step - loss: 0.4282 - acc: 0.7991 - val_loss: 0.5302 - val_acc: 0.7640\n",
      "Epoch 14/25\n",
      "250/250 [==============================] - 65s 262ms/step - loss: 0.4144 - acc: 0.8029 - val_loss: 0.5073 - val_acc: 0.7775\n",
      "Epoch 15/25\n",
      "250/250 [==============================] - 71s 282ms/step - loss: 0.4081 - acc: 0.8136 - val_loss: 0.5305 - val_acc: 0.7725\n",
      "Epoch 16/25\n",
      "250/250 [==============================] - 72s 287ms/step - loss: 0.3971 - acc: 0.8193 - val_loss: 0.6140 - val_acc: 0.7365\n",
      "Epoch 17/25\n",
      "250/250 [==============================] - 73s 291ms/step - loss: 0.3873 - acc: 0.8217 - val_loss: 0.5145 - val_acc: 0.7745\n",
      "Epoch 18/25\n",
      "250/250 [==============================] - 65s 260ms/step - loss: 0.3790 - acc: 0.8256 - val_loss: 0.5231 - val_acc: 0.7645\n",
      "Epoch 19/25\n",
      "250/250 [==============================] - 62s 248ms/step - loss: 0.3723 - acc: 0.8309 - val_loss: 0.5647 - val_acc: 0.7630\n",
      "Epoch 20/25\n",
      "250/250 [==============================] - 62s 247ms/step - loss: 0.3466 - acc: 0.8459 - val_loss: 0.5966 - val_acc: 0.7570\n",
      "Epoch 21/25\n",
      "250/250 [==============================] - 75s 301ms/step - loss: 0.3557 - acc: 0.8415 - val_loss: 0.5861 - val_acc: 0.7550\n",
      "Epoch 22/25\n",
      "250/250 [==============================] - 76s 303ms/step - loss: 0.3322 - acc: 0.8515 - val_loss: 0.6092 - val_acc: 0.7600\n",
      "Epoch 23/25\n",
      "250/250 [==============================] - 72s 287ms/step - loss: 0.3212 - acc: 0.8638 - val_loss: 0.5680 - val_acc: 0.7755\n",
      "Epoch 24/25\n",
      "250/250 [==============================] - 70s 281ms/step - loss: 0.3146 - acc: 0.8647 - val_loss: 0.6505 - val_acc: 0.7460\n",
      "Epoch 25/25\n",
      "250/250 [==============================] - 76s 302ms/step - loss: 0.3051 - acc: 0.8665 - val_loss: 0.6135 - val_acc: 0.7655\n"
     ]
    },
    {
     "data": {
      "text/plain": [
       "<keras.callbacks.History at 0x1c3d5e02e10>"
      ]
     },
     "execution_count": 10,
     "metadata": {},
     "output_type": "execute_result"
    }
   ],
   "source": [
    "##create an object of ImageDataGenerator, for augmenting train set\n",
    "train_datagen = ImageDataGenerator(rescale = 1./255,\n",
    "                                   shear_range = 0.2,\n",
    "                                   zoom_range = 0.2,\n",
    "                                   horizontal_flip = True)\n",
    "\n",
    "##create another object of ImageDataGenerator, for augmenting test set\n",
    "test_datagen = ImageDataGenerator(rescale = 1./255)\n",
    "\n",
    "##apply image augmentation on train set by resizing all images to 64x64 and creating batches of 32 images.\n",
    "training_set = train_datagen.flow_from_directory('dataset/training_set',\n",
    "                                                 target_size = (64, 64),\n",
    "                                                 batch_size = 32,\n",
    "                                                 class_mode = 'binary')\n",
    "\n",
    "##apply image augmentation on test set by resizing all images to 64x64 and creating batches of 32 images.\n",
    "test_set = test_datagen.flow_from_directory('dataset/test_set',\n",
    "                                            target_size = (64, 64),\n",
    "                                            batch_size = 32,\n",
    "                                            class_mode = 'binary')\n",
    "\n",
    "\n",
    "###steps_per_epoch: num of data divided by batch size\n",
    "###validation_steps: num of data divided by batch size\n",
    "classifier.fit_generator(training_set,\n",
    "                         steps_per_epoch = (8000/32),\n",
    "                         epochs = 25,\n",
    "                         validation_data = test_set,\n",
    "                         validation_steps = (2000/32))\n"
   ]
  },
  {
   "cell_type": "markdown",
   "metadata": {},
   "source": [
    "## Example prediction"
   ]
  },
  {
   "cell_type": "code",
   "execution_count": 18,
   "metadata": {},
   "outputs": [],
   "source": [
    "import numpy as np\n",
    "from keras.preprocessing import image"
   ]
  },
  {
   "cell_type": "code",
   "execution_count": 12,
   "metadata": {},
   "outputs": [],
   "source": [
    "test_image = image.load_img('dataset/single_prediction/cat_or_dog_1.jpg', \n",
    "                            target_size = (64, 64))"
   ]
  },
  {
   "cell_type": "code",
   "execution_count": 13,
   "metadata": {},
   "outputs": [],
   "source": [
    "#add channel dimension for image\n",
    "test_image = image.img_to_array(test_image)"
   ]
  },
  {
   "cell_type": "code",
   "execution_count": 14,
   "metadata": {},
   "outputs": [],
   "source": [
    "##add batch dimension for image\n",
    "test_image = np.expand_dims(test_image, axis = 0)"
   ]
  },
  {
   "cell_type": "code",
   "execution_count": 15,
   "metadata": {},
   "outputs": [],
   "source": [
    "result = classifier.predict(test_image)"
   ]
  },
  {
   "cell_type": "code",
   "execution_count": 16,
   "metadata": {},
   "outputs": [
    {
     "data": {
      "text/plain": [
       "{'cats': 0, 'dogs': 1}"
      ]
     },
     "execution_count": 16,
     "metadata": {},
     "output_type": "execute_result"
    }
   ],
   "source": [
    "training_set.class_indices"
   ]
  },
  {
   "cell_type": "code",
   "execution_count": 17,
   "metadata": {},
   "outputs": [
    {
     "name": "stdout",
     "output_type": "stream",
     "text": [
      "Dog\n"
     ]
    }
   ],
   "source": [
    "if result[0][0] == 1:\n",
    "    print('Dog')\n",
    "else:\n",
    "    print('Cat')"
   ]
  },
  {
   "cell_type": "code",
   "execution_count": null,
   "metadata": {},
   "outputs": [],
   "source": []
  }
 ],
 "metadata": {
  "kernelspec": {
   "display_name": "Python 3",
   "language": "python",
   "name": "python3"
  },
  "language_info": {
   "codemirror_mode": {
    "name": "ipython",
    "version": 3
   },
   "file_extension": ".py",
   "mimetype": "text/x-python",
   "name": "python",
   "nbconvert_exporter": "python",
   "pygments_lexer": "ipython3",
   "version": "3.7.3"
  }
 },
 "nbformat": 4,
 "nbformat_minor": 4
}
